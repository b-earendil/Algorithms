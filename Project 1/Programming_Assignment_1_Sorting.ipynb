{
  "cells": [
    {
      "cell_type": "markdown",
      "metadata": {
        "id": "v1tMjjyRlhnY"
      },
      "source": [
        "# Programming Assignment \\# 1\n",
        "\n",
        "__Goal:__ \n",
        "\n",
        "This programming assignment will ask you to do the following tasks.\n",
        "\n",
        "(a) Implement some of the sorting algorithms for sorting integer data in ascending order in python3.\n",
        "  - Simple sort (implemented for you)\n",
        "  - Bubble Sort (read from book or online sources)\n",
        "  - Merge Sort\n",
        "  - Quicksort \n",
        "  \n",
        "  \n",
        "(b) Your implementation must count the number of *compare* operations each sorting algorithm carries out.\n",
        "    \n",
        "(c) You must formulate a series of arrays of lengths from $5$ to $100$  (step by 5), that will form the worst case of these\n",
        "sorting algorithms and plot the number of comparisons in the __worst case__ vs. size of input array (x axis)\n",
        " \n",
        "(d) Generate $1000$ random inputs for each size and compute average time. Plot the size of input array (x axis) vs. number of comparisons (y axis)"
      ]
    },
    {
      "cell_type": "markdown",
      "metadata": {
        "id": "YNYbJTYolhne"
      },
      "source": [
        "----\n",
        "## Simple Sort"
      ]
    },
    {
      "cell_type": "code",
      "execution_count": 1,
      "metadata": {
        "id": "CMwQOmNnlhnf"
      },
      "outputs": [],
      "source": [
        "%matplotlib inline\n",
        "import matplotlib\n",
        "import numpy as np\n",
        "import matplotlib.pyplot as plt\n",
        "\n",
        "def simple_sort(a):\n",
        "    # must sort the array a in place and return the number of comparisons\n",
        "    num_compare = 0\n",
        "    n = len(a)\n",
        "    for i in range(0, n): # i goes from 0 to n-1\n",
        "        for j in range(i+1, n): # j goes from i+1 to n-1\n",
        "            num_compare = num_compare + 1\n",
        "            if a[i] >= a[j]:\n",
        "                # swap\n",
        "                a[i], a[j] = a[j], a[i]\n",
        "    return num_compare"
      ]
    },
    {
      "cell_type": "code",
      "execution_count": 2,
      "metadata": {
        "colab": {
          "base_uri": "https://localhost:8080/"
        },
        "id": "f7bUpBOilhng",
        "outputId": "67a85b1c-a1b5-49ec-c099-7345ad197fdd"
      },
      "outputs": [
        {
          "output_type": "stream",
          "name": "stdout",
          "text": [
            "Num Comparison =  45\n",
            "Sorted Result =  [-2, -1, 1, 2, 3, 3, 4, 10, 15, 29]\n"
          ]
        }
      ],
      "source": [
        "# TESTING CODE\n",
        "a = [3, 10, 1, 29, -1, 4, 3, 15, 2, -2]\n",
        "nc = simple_sort(a)\n",
        "print('Num Comparison = ', nc)\n",
        "print('Sorted Result = ', a)"
      ]
    },
    {
      "cell_type": "markdown",
      "metadata": {
        "id": "UoqU0yiElhni"
      },
      "source": [
        "### Complexity analysis of simple sort.\n",
        "\n",
        "Note that simple sort consists of two loops and regardless of the input array, the first loop runs from n steps. And the second loop runs $n-i-1$ steps where $i$ is the index of the first loop. Thus, the worst case, best case and average case complexity should be $\\sum_{j=1}^{n-1} j = \\frac{n(n-1)}{2}$ comparisons = $\\Theta(n^2)$\n",
        "\n",
        "The code below plots it for arrays of size 5, 10, ..., 100. However, we cannot really distinguish between the number of comparisons for randomized vs. worst case."
      ]
    },
    {
      "cell_type": "code",
      "execution_count": 3,
      "metadata": {
        "colab": {
          "base_uri": "https://localhost:8080/",
          "height": 295
        },
        "id": "qtrgD-drlhni",
        "outputId": "92618473-7b75-41da-80c9-9128c9965a53"
      },
      "outputs": [
        {
          "output_type": "display_data",
          "data": {
            "text/plain": [
              "<Figure size 432x288 with 1 Axes>"
            ],
            "image/png": "[encoded data removed]"
          },
          "metadata": {
            "needs_background": "light"
          }
        }
      ],
      "source": [
        "import random\n",
        "\n",
        "# CODE TO GENERATE WORST CASE\n",
        "array_sizes = range(5, 100, 5)\n",
        "\n",
        "# Code for creating an already sorted array\n",
        "def create_ascending_sorted_array(a_size):\n",
        "    a = []\n",
        "    for i in range(a_size):\n",
        "        a.append(i)\n",
        "    return a\n",
        "\n",
        "# Code for creating a random array\n",
        "def create_random_shuffled_array(a_size):\n",
        "    a = list(range(a_size))\n",
        "    random.shuffle(a)\n",
        "    return a\n",
        "\n",
        "\n",
        "# Code for running sorting and generating number of compares\n",
        "num_compares_wc = []\n",
        "for n in array_sizes:\n",
        "    a = create_ascending_sorted_array(n)\n",
        "    nc = simple_sort(a)\n",
        "    num_compares_wc.append(nc)\n",
        "    \n",
        "# Randomized comparisons\n",
        "num_compares_random = []\n",
        "num_trials = 1000\n",
        "for n in array_sizes:\n",
        "    total = 0\n",
        "    for m in range(num_trials):\n",
        "        a = create_random_shuffled_array(n)\n",
        "        nc = simple_sort(a)\n",
        "        total = total + nc\n",
        "    avg = total / num_trials\n",
        "    num_compares_random.append(avg)\n",
        "# Code for plotting\n",
        "\n",
        "plt.plot(array_sizes, num_compares_wc, label='Worst Case') \n",
        "plt.plot(array_sizes, num_compares_random, linestyle='dashdot', label='Average Case')\n",
        "plt.legend(['Worst Case', 'Average Case'])\n",
        "plt.title('Simple Sort (Worst and Average Cases)')\n",
        "plt.xlabel('Array Size')\n",
        "plt.ylabel('Number of Comparisons')\n",
        "\n",
        "plt.show()"
      ]
    },
    {
      "cell_type": "markdown",
      "metadata": {
        "id": "3kD_eV9xlhnj"
      },
      "source": [
        "----\n",
        "\n",
        "### Bubble Sort"
      ]
    },
    {
      "cell_type": "code",
      "execution_count": 4,
      "metadata": {
        "id": "14CGDFGdlhnk"
      },
      "outputs": [],
      "source": [
        "def bubble_sort(a):\n",
        "    # Implement code to bubble sort the given array a in place.\n",
        "    # Also return the number of comparisons. \n",
        "    num_compares = 0\n",
        "    n = len(a)\n",
        "    for i in range(n):\n",
        "        # Previous i elements already sorted\n",
        "        flag = 0\n",
        "        for j in range(0, n-i-1):\n",
        "            num_compares = num_compares + 1\n",
        "            if a[j] > a[j + 1]:\n",
        "                a[j], a[j + 1] = a[j + 1], a[j]  # swap\n",
        "                flag = 1\n",
        "        if flag == 0:\n",
        "            break\n",
        "    return num_compares"
      ]
    },
    {
      "cell_type": "markdown",
      "metadata": {
        "id": "Zrdwsvwqlhnl"
      },
      "source": [
        "### Complexity Analysis of Bubble Sort\n",
        "\n",
        "__Todo: explain what the worst and average cases are. Explain how you would craft inputs for the worst case __"
      ]
    },
    {
      "cell_type": "markdown",
      "metadata": {
        "id": "knOXWmiZlhnl"
      },
      "source": [
        "#### BUBBLE SORT\n",
        "\n",
        "<b>Note</b>: Bubble sort can be optimized by including a flag variable to record the event where we make a pass through the array without performing any swaps. Whenever this happens, we know the array is sorted. Thus, we can break out of both loops. Then, in the best case, when the array is already sorted, we can achieve $\\Theta(n)$ time.\n",
        "\n",
        "<b>Worst Case</b>:\n",
        "Bubble sort has $\\Theta(n^2)$ time complexity in the worst case.  This can be easily seen. In the first pass, we have max $n-1$ comparisons. In the second pass, we have max $n-2$ comparisons. In the third pass, max $n-3$ comparisons. The pattern continues until we have a single comparison. We note that this is simply the sum of natural numbers. $\\sum_{i=1}^{n-1} = \\frac{n(n-1)}{2} = \\Theta(n^2)$\n",
        "\n",
        "<b>Average Case</b>:\n",
        "In the average case, we have $\\Theta(n^2)$ time complexity. Note that our flag variable is also a minor optimization in the average case. (This can be seen in the plot below).\n",
        "\n",
        "<b>Worst Case Inputs</b>: The worst case input would be an array of values sorted in descending order. To create this, we should simply fill an array with numbers that decrease in value with increasing index $i$, for $i \\in \\{0, 1, \\dots, n-1\\}$, where $n$ is the size of the array. With distinct elements, we have that $\\left[A[0] > A[1] > \\dots > A[n-1]\\right]$"
      ]
    },
    {
      "cell_type": "code",
      "execution_count": 5,
      "metadata": {
        "colab": {
          "base_uri": "https://localhost:8080/",
          "height": 295
        },
        "id": "aFW9eRISlhnm",
        "outputId": "bac98e39-45b5-438d-afdc-283c0cc67dc0"
      },
      "outputs": [
        {
          "output_type": "display_data",
          "data": {
            "text/plain": [
              "<Figure size 432x288 with 1 Axes>"
            ],
            "image/png": "[encoded data removed]"
          },
          "metadata": {
            "needs_background": "light"
          }
        }
      ],
      "source": [
        "## WRITE CODE HERE TO GENERATE WORST CASE and AVERAGE CASE INPUTS/PLOT\n",
        "## You may cut and paste from code we provided or directly call them\n",
        "\n",
        "import random\n",
        "\n",
        "# CODE TO GENERATE WORST CASE\n",
        "array_sizes = range(5, 100, 5)\n",
        "\n",
        "# Bubble Sort worst case occurs when input array is sorted descending\n",
        "def create_descending_sorted_array(a_size):\n",
        "    a = []\n",
        "    for i in range(a_size, -1, -1):\n",
        "        a.append(i)\n",
        "    return a\n",
        "\n",
        "# -------------------------------------------------------------------------------------------------------------------\n",
        "# -------------------------------------------------------------------------------------------------------------------\n",
        "\n",
        "#CODE TO GENERATE AVERAGE CASE\n",
        "# Code for creating a random array\n",
        "def create_random_shuffled_array(a_size):\n",
        "    a = list(range(a_size))\n",
        "    random.shuffle(a)\n",
        "    return a\n",
        "\n",
        "\n",
        "# Code for running sorting and generating number of compares\n",
        "num_compares_wc = []\n",
        "for n in array_sizes:\n",
        "    a = create_descending_sorted_array(n)\n",
        "    nc = bubble_sort(a)\n",
        "    num_compares_wc.append(nc)\n",
        "    \n",
        "    \n",
        "# Randomized comparisons\n",
        "num_compares_random = []\n",
        "num_trials = 1000\n",
        "for n in array_sizes:\n",
        "    total = 0\n",
        "    for m in range(num_trials):\n",
        "        a = create_random_shuffled_array(n)\n",
        "        nc = bubble_sort(a)\n",
        "        total = total + nc\n",
        "    avg = total / num_trials\n",
        "    num_compares_random.append(avg)\n",
        "    \n",
        "\n",
        "# Code for plotting\n",
        "plt.plot(array_sizes, num_compares_wc, label='Worst Case') \n",
        "plt.plot(array_sizes, num_compares_random, linestyle='dashdot', label='Average Case')\n",
        "plt.legend(['Worst Case', 'Average Case'])\n",
        "plt.title('Bubble Sort (Worst and Average Cases)')\n",
        "plt.xlabel('Array Size')\n",
        "plt.ylabel('Number of Comparisons')\n",
        "\n",
        "plt.show()"
      ]
    },
    {
      "cell_type": "markdown",
      "metadata": {
        "id": "O5Scb7_Mlhnn"
      },
      "source": [
        "----\n",
        "### Merge Sort"
      ]
    },
    {
      "cell_type": "code",
      "execution_count": 6,
      "metadata": {
        "id": "bC1fLYPVlhnn"
      },
      "outputs": [],
      "source": [
        "num_compares_merge = 0\n",
        "\n",
        "def merge(arr, l, r):\n",
        "    global num_compares_merge\n",
        "    i = 0\n",
        "    j = 0\n",
        "    k = 0\n",
        "    while i < len(l) and j < len(r):  # while in range\n",
        "        num_compares_merge = num_compares_merge + 1\n",
        "        # merge l and r in ascending order into arr\n",
        "        if l[i] < r[j]:\n",
        "            arr[k] = l[i]\n",
        "            i = i + 1\n",
        "        else:\n",
        "            arr[k] = r[j]\n",
        "            j = j + 1\n",
        "        k = k + 1\n",
        "\n",
        "    while i < len(l):  # copy remaining elements\n",
        "        arr[k] = l[i]\n",
        "        i = i + 1\n",
        "        k = k + 1\n",
        "\n",
        "    while j < len(r):  # copy remaining elements\n",
        "        arr[k] = r[j]\n",
        "        j = j + 1\n",
        "        k = k + 1\n",
        "\n",
        "\n",
        "def merge_sort_recursive(arr):\n",
        "    if len(arr) > 1:\n",
        "        m = len(arr)//2\n",
        "        l = arr[:m]\n",
        "        r = arr[m:]\n",
        "\n",
        "        # Sort the left and right\n",
        "        merge_sort_recursive(l)\n",
        "        merge_sort_recursive(r)\n",
        "        merge(arr, l, r)\n",
        "\n",
        "\n",
        "def merge_sort(a):\n",
        "    # Implement the code for merge sort\n",
        "    # Use a function merge_sort_recursive to implement the recursive call\n",
        "    # Be careful in counting number of comparisons since you should include comparisons in the merge part.\n",
        "    # Also: code needs to sort the array a. You may have to copy things over from a temp array back into a.\n",
        "    return merge_sort_recursive(a)"
      ]
    },
    {
      "cell_type": "markdown",
      "metadata": {
        "id": "b1fIQYzBlhno"
      },
      "source": [
        "### Complexity Analysis of Merge Sort\n",
        "\n",
        "__Todo: explain what the worst and average cases are. Explain how you would craft inputs for the worst case __\n"
      ]
    },
    {
      "cell_type": "markdown",
      "metadata": {
        "id": "Ud3hKZDolhno"
      },
      "source": [
        "#### MERGE SORT\n",
        "\n",
        "<b>Worst Case</b>:\n",
        "Merge Sort has worst case time complexity of $\\Theta(nlogn)$. This can be seen by drawing a recursion tree. At each level of the tree, we have n-elements being merged. Merging takes $\\Theta(n)$ time. The height of the tree is $logn$. So we have $\\Theta(n)$ work being performed $logn$ times. For a time complexity of $\\Theta(nlogn)$. We note that the merge step (combine step) dominates the divide step.\n",
        "\n",
        "<b>Average Case</b>: The average case of Merge Sort is $\\Theta(nlogn)$. We want to impose a uniform distribution on our input space so as to avoid the worst case (where each subarray involved in a merge contains alternating elements). Random shuffling of the input array is a quick and easy way to ensure that each input distribution turns up with equal probability, and thus, that the worst case is as rare as any other case.\n",
        "\n",
        "<b>Worst Case Inputs</b>: The worst case input would be an array, such that each subarray involved in merge operation contains alternating elements. As an example: \n",
        "\n",
        "$$[1,2,3,4,5,6,7,8]$$\n",
        "$$[1,3,5,7] \\quad [2,4,6,8]$$\n",
        "$$[1,5] \\quad [3,7] \\quad [2,6] \\quad [4,8]$$\n",
        "$$[5,1] \\quad [7,3] \\quad [6,2] \\quad [8,4]$$\n",
        "$$[5,1,7,3] \\quad [6,2,8,4]$$\n",
        "$$[5,1,7,3,6,2,8,4]$$\n",
        "\n",
        "\n",
        "\n",
        "\n",
        "So for given input array $[1,2,3,4,5,6,7,8]$ we have worst case input $[5,1,7,3,6,2,8,4]$.\n",
        "\n",
        "Source: https://www.baeldung.com/cs/merge-sort-time-complexity\n",
        "\n",
        "In this example, every element for both arrays must be compared at least once while merging. This will maximize comparisons, and yield worst case running time."
      ]
    },
    {
      "cell_type": "code",
      "execution_count": 7,
      "metadata": {
        "colab": {
          "base_uri": "https://localhost:8080/",
          "height": 384
        },
        "id": "HpfpSsm_lhnp",
        "outputId": "53142ef5-6b6b-450f-b536-9f4f974ca571"
      },
      "outputs": [
        {
          "output_type": "stream",
          "name": "stdout",
          "text": [
            "wc\n",
            "[8, 25, 45, 69, 94, 119, 146, 177, 201, 237, 261, 297, 327, 361, 395, 433, 456, 491, 538]\n",
            "ac\n",
            "[7.169, 22.725, 41.702, 63.511, 86.933, 111.411, 137.826, 165.213, 193.227, 221.903, 251.308, 281.101, 311.639, 343.523, 375.41, 408.312, 441.326, 474.343, 507.587]\n"
          ]
        },
        {
          "output_type": "display_data",
          "data": {
            "text/plain": [
              "<Figure size 432x288 with 1 Axes>"
            ],
            "image/png": "[encoded data removed]"
          },
          "metadata": {
            "needs_background": "light"
          }
        }
      ],
      "source": [
        "## WRITE CODE HERE TO GENERATE WORST CASE and AVERAGE CASE INPUTS/PLOT\n",
        "## You may cut and paste from code we provided or directly call them\n",
        "\n",
        "import random\n",
        "# global variables\n",
        "target = []\n",
        "rem = None\n",
        "\n",
        "array_sizes = range(5, 100, 5)\n",
        "\n",
        "# CODE TO GENERATE WORST CASE\n",
        "# Merge Sort worst case occurs when each subarray to be merged has alternating elements\n",
        "def modified_merge_to_create_worst_case_input(a, target, remainder):\n",
        "    global rem\n",
        "    i = 0\n",
        "    j = 0\n",
        "    k = 0\n",
        "    if len(a) <= 2:  # while in range\n",
        "        sorted_a = sorted(a, reverse=True)\n",
        "        for item in sorted_a:\n",
        "            target.append(item)\n",
        "        if rem is not None:\n",
        "            for item in rem:\n",
        "                target.append(item)\n",
        "            rem = None\n",
        "\n",
        "\n",
        "def create_worst_case_input(a, target):\n",
        "    global rem\n",
        "    a.sort()\n",
        "    if len(a) > 1:\n",
        "        a1 = a[::2]  # divide step\n",
        "        a2 = a[1::2]\n",
        "        if len(a1) == 1 and len(a2) != 1:\n",
        "            rem = a1\n",
        "        if len(a1) != 1 and len(a2) == 1:\n",
        "            rem = a2\n",
        "\n",
        "        # Sort the left and right\n",
        "        create_worst_case_input(a1, target)\n",
        "        create_worst_case_input(a2, target)\n",
        "        modified_merge_to_create_worst_case_input(a, target, rem)\n",
        "\n",
        "\n",
        "# -------------------------------------------------------------------------------------------------------------------\n",
        "# -------------------------------------------------------------------------------------------------------------------\n",
        "\n",
        "# CODE TO GENERATE AVERAGE CASE\n",
        "# Code for creating a random array\n",
        "def create_random_shuffled_array(a_size):\n",
        "    a = list(range(a_size))\n",
        "    random.shuffle(a)\n",
        "    return a\n",
        "\n",
        "\n",
        "# Code for running sorting and generating number of compares\n",
        "num_compares_wc = []\n",
        "for n in array_sizes:\n",
        "    a = list(range(n))\n",
        "    create_worst_case_input(a, target)\n",
        "    a = target\n",
        "    merge_sort(a)\n",
        "    nc = num_compares_merge\n",
        "    target = []\n",
        "    num_compares_merge = 0\n",
        "    num_compares_wc.append(nc)\n",
        "\n",
        "num_compares_merge = 0\n",
        "\n",
        "# Randomized comparisons\n",
        "num_compares_random = []\n",
        "num_trials = 1000\n",
        "for n in array_sizes:\n",
        "    total = 0\n",
        "    for m in range(num_trials):\n",
        "        a = create_random_shuffled_array(n)\n",
        "        merge_sort(a)\n",
        "        nc = num_compares_merge\n",
        "        total = total + nc\n",
        "        num_compares_merge = 0\n",
        "    avg = total / num_trials\n",
        "    num_compares_random.append(avg)\n",
        "\n",
        "print(\"wc\")\n",
        "print(num_compares_wc)\n",
        "print(\"ac\")\n",
        "print(num_compares_random)\n",
        "\n",
        "# Code for plotting\n",
        "plt.plot(array_sizes, num_compares_wc, label='Worst Case') \n",
        "plt.plot(array_sizes, num_compares_random, linestyle='dashdot', label='Average Case')\n",
        "plt.legend(['Worst Case', 'Average Case'])\n",
        "plt.title('Merge Sort (Worst and Average Cases)')\n",
        "plt.xlabel('Array Size')\n",
        "plt.ylabel('Number of Comparisons')\n",
        "\n",
        "plt.show()"
      ]
    },
    {
      "cell_type": "markdown",
      "metadata": {
        "id": "iN30zov2lhnq"
      },
      "source": [
        "----\n",
        "### Quick Sort\n"
      ]
    },
    {
      "cell_type": "code",
      "execution_count": 8,
      "metadata": {
        "id": "JFMppsbKlhnq"
      },
      "outputs": [],
      "source": [
        "num_compares_quick = 0\n",
        "\n",
        "\n",
        "def quick_sort(a):\n",
        "    # Implement code for quick sort\n",
        "    # Must sort the array a in place\n",
        "    # Must return the number of comparisons\n",
        "    n = len(a)\n",
        "    quicksort(a, 0, n-1) # you can implement it how you wish\n",
        "    return num_compares_quick\n",
        "\n",
        "\n",
        "def swap(A, index1, index2):\n",
        "    n = len(A)\n",
        "    if index1 < n and index2 < n:\n",
        "        A[index1], A[index2] = A[index2], A[index1]\n",
        "        return A\n",
        "    else:\n",
        "        return\n",
        "\n",
        "\n",
        "def partition(A, right):\n",
        "    global num_compares_quick\n",
        "    i = -1\n",
        "    j = 0\n",
        "    pivot = A[right]\n",
        "    while j < right:\n",
        "        num_compares_quick = num_compares_quick + 1\n",
        "        if A[j] < pivot:  # Region 1\n",
        "            swap(A, i + 1, j)\n",
        "            i = i + 1\n",
        "            j = j + 1\n",
        "        else:  # Region 2\n",
        "            j = j + 1\n",
        "    swap(A, i + 1, right)  # place pivot element\n",
        "    return i + 1  # return pivot location\n",
        "\n",
        "\n",
        "def quicksort(A, left, right):\n",
        "    if left < right:\n",
        "        p = partition(A, right)\n",
        "        quicksort(A, left, p - 1)\n",
        "        quicksort(A, p + 1, right)\n",
        "    "
      ]
    },
    {
      "cell_type": "markdown",
      "metadata": {
        "id": "Y8SviS_7lhnr"
      },
      "source": [
        "### Complexity Analysis of Quick Sort\n",
        "\n",
        "__Todo: explain what the worst and average cases are. Explain how you would craft inputs for the worst case __\n"
      ]
    },
    {
      "cell_type": "markdown",
      "metadata": {
        "id": "-mgPdvCQlhnr"
      },
      "source": [
        "#### QUICKSORT\n",
        "\n",
        "<b>Note</b>:\n",
        "\n",
        "<b>Worst Case</b>:\n",
        "The worst case time complexity of Quicksort is $\\Theta(n^2)$. This occurs when the array is already sorted. Given that my implementation always selects the last element as the pivot... the worst case occurs when the input array is already sorted descending. \n",
        "\n",
        "<b>Average Case</b>: The average case for Quicksort is $\\Theta(nlogn)$. This occurs when our input array is not adversarial in any way (already sorted). We want to impose a uniform distribution on our input space so as to avoid the worst case (always selecting the largest or smallest element). Random shuffling of the input array is a quick and easy way to ensure that each input distribution turns up with equal probability, and thus, that the worst case (already sorted) is as rare as any other case.\n",
        "\n",
        "\n",
        "<b>Worst Case Inputs</b>: The worst case input for my implementation of Quicksort is an input array which is already sorted descending. This forces the worst possible partition, where we always choose the largest or smallest element in the list as the pivot element. This yields subproblems of size $n$, $n-1$, $n-2, \\dots 1$. \n",
        "\n",
        "This is the sum of natural numbers. $\\sum_{i = 1}^{n} = \\frac{n(n+1)}{2}$. Which gives $\\Theta(n^2)$ time complexity. \n",
        "\n",
        "We can also see this with the recurrence $T(n) = T(n-1) + \\Theta(n) = \\Theta(n^2)$"
      ]
    },
    {
      "cell_type": "code",
      "execution_count": 9,
      "metadata": {
        "colab": {
          "base_uri": "https://localhost:8080/",
          "height": 384
        },
        "id": "cKFZYH7Elhnr",
        "outputId": "ecea7fdd-ea20-4d69-d6b0-9f44022b74d3"
      },
      "outputs": [
        {
          "output_type": "stream",
          "name": "stdout",
          "text": [
            "wc\n",
            "[21, 80, 176, 310, 481, 690, 936, 1220, 1541, 1900, 2296, 2730, 3201, 3710, 4256, 4840, 5461, 6120, 6816]\n",
            "ac\n",
            "[9.801, 40.648, 90.476, 159.265, 245.669, 347.929, 470.679, 612.179, 765.954, 937.843, 1131.621, 1333.873, 1559.731, 1803.402, 2058.287, 2338.591, 2628.472, 2942.24, 3268.177]\n"
          ]
        },
        {
          "output_type": "display_data",
          "data": {
            "text/plain": [
              "<Figure size 432x288 with 1 Axes>"
            ],
            "image/png": "[encoded data removed]"
          },
          "metadata": {
            "needs_background": "light"
          }
        }
      ],
      "source": [
        "## WRITE CODE HERE TO GENERATE WORST CASE and AVERAGE CASE INPUTS/PLOT\n",
        "## You may cut and paste from code we provided or directly call them\n",
        "\n",
        "import random\n",
        "\n",
        "# CODE TO GENERATE WORST CASE\n",
        "array_sizes = range(5, 100, 5)\n",
        "\n",
        "# Bubble Sort worst case occurs when input array is sorted descending\n",
        "def create_descending_sorted_array(a_size):\n",
        "    a = []\n",
        "    for i in range(a_size, -1, -1):\n",
        "        a.append(i)\n",
        "    return a\n",
        "\n",
        "# -------------------------------------------------------------------------------------------------------------------\n",
        "# -------------------------------------------------------------------------------------------------------------------\n",
        "\n",
        "#CODE TO GENERATE AVERAGE CASE\n",
        "# Code for creating a random array\n",
        "def create_random_shuffled_array(a_size):\n",
        "    a = list(range(a_size))\n",
        "    random.shuffle(a)\n",
        "    return a\n",
        "\n",
        "\n",
        "# Code for running sorting and generating number of compares\n",
        "num_compares_wc = []\n",
        "for n in array_sizes:\n",
        "    a = create_descending_sorted_array(n)\n",
        "    nc = quick_sort(a)\n",
        "    num_compares_quick = 0\n",
        "    num_compares_wc.append(nc)\n",
        "    \n",
        "num_compares_quick = 0\n",
        "    \n",
        "# Randomized comparisons\n",
        "num_compares_random = []\n",
        "num_trials = 1000\n",
        "for n in array_sizes:\n",
        "    total = 0\n",
        "    for m in range(num_trials):\n",
        "        a = create_random_shuffled_array(n)\n",
        "        nc = quick_sort(a)\n",
        "        total = total + nc\n",
        "        num_compares_quick = 0\n",
        "    avg = total / num_trials\n",
        "    total = 0\n",
        "    num_compares_random.append(avg)\n",
        "    \n",
        "print(\"wc\")\n",
        "print(num_compares_wc)\n",
        "print(\"ac\")\n",
        "print(num_compares_random)\n",
        "\n",
        "# Code for plotting\n",
        "plt.plot(array_sizes, num_compares_wc, label='Worst Case') \n",
        "plt.plot(array_sizes, num_compares_random, linestyle='dashdot', label='Average Case')\n",
        "plt.legend(['Worst Case', 'Average Case'])\n",
        "plt.title('Quick Sort (Worst and Average Cases)')\n",
        "plt.xlabel('Array Size')\n",
        "plt.ylabel('Number of Comparisons')\n",
        "\n",
        "plt.show()"
      ]
    },
    {
      "cell_type": "markdown",
      "metadata": {
        "id": "0WSSixyblhns"
      },
      "source": [
        "-----\n",
        "## Testing Code: Do not edit\n",
        "\n"
      ]
    },
    {
      "cell_type": "code",
      "execution_count": 10,
      "metadata": {
        "id": "lIsjJXHalhns"
      },
      "outputs": [],
      "source": [
        "def test_sorting_algorithm(sort_fun, sz, num_trials):\n",
        "    num_passed = 0\n",
        "    for i in range(num_trials):\n",
        "        a = create_random_shuffled_array(sz)\n",
        "        a_orig = list(a) # make a copy\n",
        "        b = sorted(a)\n",
        "        nc = sort_fun(a)\n",
        "        if a == b:\n",
        "            num_passed = num_passed + 1\n",
        "        else:\n",
        "            print('----')\n",
        "            print('FAILED: Input = ', a_orig)\n",
        "            print('Expected: ', b)\n",
        "            print('Obtained:', a)\n",
        "            print('----')\n",
        "    print('Num Trials = ', num_trials)\n",
        "    print('Num Passed = ', num_passed)"
      ]
    },
    {
      "cell_type": "code",
      "execution_count": 11,
      "metadata": {
        "colab": {
          "base_uri": "https://localhost:8080/"
        },
        "id": "05-MddAvlhnt",
        "outputId": "7bbb8654-04c4-4d0d-c31b-4af99044c484"
      },
      "outputs": [
        {
          "output_type": "stream",
          "name": "stdout",
          "text": [
            "Num Trials =  100\n",
            "Num Passed =  100\n"
          ]
        }
      ],
      "source": [
        "test_sorting_algorithm(simple_sort, 50, 100)"
      ]
    },
    {
      "cell_type": "code",
      "execution_count": 12,
      "metadata": {
        "colab": {
          "base_uri": "https://localhost:8080/"
        },
        "id": "wpZcmFD9lhnt",
        "outputId": "1ce0256b-bc78-45d5-f036-4da98f22b728"
      },
      "outputs": [
        {
          "output_type": "stream",
          "name": "stdout",
          "text": [
            "Num Trials =  10\n",
            "Num Passed =  10\n"
          ]
        }
      ],
      "source": [
        "test_sorting_algorithm(bubble_sort, 10, 10)"
      ]
    },
    {
      "cell_type": "code",
      "execution_count": 13,
      "metadata": {
        "colab": {
          "base_uri": "https://localhost:8080/"
        },
        "id": "TJQIF5cOlhnu",
        "outputId": "d071df2e-43ff-45b6-d361-7389b6f03ea5"
      },
      "outputs": [
        {
          "output_type": "stream",
          "name": "stdout",
          "text": [
            "Num Trials =  10\n",
            "Num Passed =  10\n"
          ]
        }
      ],
      "source": [
        "test_sorting_algorithm(merge_sort, 10, 10)"
      ]
    },
    {
      "cell_type": "code",
      "execution_count": 14,
      "metadata": {
        "colab": {
          "base_uri": "https://localhost:8080/"
        },
        "id": "kThOCSuWlhnu",
        "outputId": "3d092977-10bf-4f81-c1ae-368d9f7ffbd7"
      },
      "outputs": [
        {
          "output_type": "stream",
          "name": "stdout",
          "text": [
            "Num Trials =  10\n",
            "Num Passed =  10\n"
          ]
        }
      ],
      "source": [
        "test_sorting_algorithm(quick_sort, 10, 10)"
      ]
    },
    {
      "cell_type": "code",
      "execution_count": 14,
      "metadata": {
        "id": "EYlkNmX4lhnv"
      },
      "outputs": [],
      "source": []
    }
  ],
  "metadata": {
    "kernelspec": {
      "display_name": "Python 3 (ipykernel)",
      "language": "python",
      "name": "python3"
    },
    "language_info": {
      "codemirror_mode": {
        "name": "ipython",
        "version": 3
      },
      "file_extension": ".py",
      "mimetype": "text/x-python",
      "name": "python",
      "nbconvert_exporter": "python",
      "pygments_lexer": "ipython3",
      "version": "3.9.6"
    },
    "colab": {
      "provenance": []
    }
  },
  "nbformat": 4,
  "nbformat_minor": 0
}